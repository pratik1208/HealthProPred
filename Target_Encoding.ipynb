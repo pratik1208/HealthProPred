{
  "cells": [
    {
      "cell_type": "markdown",
      "metadata": {
        "id": "view-in-github",
        "colab_type": "text"
      },
      "source": [
        "<a href=\"https://colab.research.google.com/github/pratik1208/HealthProPred/blob/main/Target_Encoding.ipynb\" target=\"_parent\"><img src=\"https://colab.research.google.com/assets/colab-badge.svg\" alt=\"Open In Colab\"/></a>"
      ]
    },
    {
      "cell_type": "code",
      "execution_count": 1,
      "metadata": {
        "id": "UjgFVmZT38G_"
      },
      "outputs": [],
      "source": [
        "import pandas as pd\n",
        "import numpy as np\n",
        "import matplotlib.pyplot as plt\n",
        "import seaborn as sns"
      ]
    },
    {
      "cell_type": "code",
      "execution_count": 2,
      "metadata": {
        "colab": {
          "base_uri": "https://localhost:8080/",
          "height": 304
        },
        "id": "LlcsCG1qnH-N",
        "outputId": "cbf3823b-08c9-4ede-d450-a21ed77d011c"
      },
      "outputs": [
        {
          "output_type": "error",
          "ename": "MessageError",
          "evalue": "Error: credential propagation was unsuccessful",
          "traceback": [
            "\u001b[0;31m---------------------------------------------------------------------------\u001b[0m",
            "\u001b[0;31mMessageError\u001b[0m                              Traceback (most recent call last)",
            "\u001b[0;32m<ipython-input-2-d5df0069828e>\u001b[0m in \u001b[0;36m<cell line: 2>\u001b[0;34m()\u001b[0m\n\u001b[1;32m      1\u001b[0m \u001b[0;32mfrom\u001b[0m \u001b[0mgoogle\u001b[0m\u001b[0;34m.\u001b[0m\u001b[0mcolab\u001b[0m \u001b[0;32mimport\u001b[0m \u001b[0mdrive\u001b[0m\u001b[0;34m\u001b[0m\u001b[0;34m\u001b[0m\u001b[0m\n\u001b[0;32m----> 2\u001b[0;31m \u001b[0mdrive\u001b[0m\u001b[0;34m.\u001b[0m\u001b[0mmount\u001b[0m\u001b[0;34m(\u001b[0m\u001b[0;34m'/content/drive'\u001b[0m\u001b[0;34m)\u001b[0m\u001b[0;34m\u001b[0m\u001b[0;34m\u001b[0m\u001b[0m\n\u001b[0m",
            "\u001b[0;32m/usr/local/lib/python3.10/dist-packages/google/colab/drive.py\u001b[0m in \u001b[0;36mmount\u001b[0;34m(mountpoint, force_remount, timeout_ms, readonly)\u001b[0m\n\u001b[1;32m     98\u001b[0m \u001b[0;32mdef\u001b[0m \u001b[0mmount\u001b[0m\u001b[0;34m(\u001b[0m\u001b[0mmountpoint\u001b[0m\u001b[0;34m,\u001b[0m \u001b[0mforce_remount\u001b[0m\u001b[0;34m=\u001b[0m\u001b[0;32mFalse\u001b[0m\u001b[0;34m,\u001b[0m \u001b[0mtimeout_ms\u001b[0m\u001b[0;34m=\u001b[0m\u001b[0;36m120000\u001b[0m\u001b[0;34m,\u001b[0m \u001b[0mreadonly\u001b[0m\u001b[0;34m=\u001b[0m\u001b[0;32mFalse\u001b[0m\u001b[0;34m)\u001b[0m\u001b[0;34m:\u001b[0m\u001b[0;34m\u001b[0m\u001b[0;34m\u001b[0m\u001b[0m\n\u001b[1;32m     99\u001b[0m   \u001b[0;34m\"\"\"Mount your Google Drive at the specified mountpoint path.\"\"\"\u001b[0m\u001b[0;34m\u001b[0m\u001b[0;34m\u001b[0m\u001b[0m\n\u001b[0;32m--> 100\u001b[0;31m   return _mount(\n\u001b[0m\u001b[1;32m    101\u001b[0m       \u001b[0mmountpoint\u001b[0m\u001b[0;34m,\u001b[0m\u001b[0;34m\u001b[0m\u001b[0;34m\u001b[0m\u001b[0m\n\u001b[1;32m    102\u001b[0m       \u001b[0mforce_remount\u001b[0m\u001b[0;34m=\u001b[0m\u001b[0mforce_remount\u001b[0m\u001b[0;34m,\u001b[0m\u001b[0;34m\u001b[0m\u001b[0;34m\u001b[0m\u001b[0m\n",
            "\u001b[0;32m/usr/local/lib/python3.10/dist-packages/google/colab/drive.py\u001b[0m in \u001b[0;36m_mount\u001b[0;34m(mountpoint, force_remount, timeout_ms, ephemeral, readonly)\u001b[0m\n\u001b[1;32m    131\u001b[0m   )\n\u001b[1;32m    132\u001b[0m   \u001b[0;32mif\u001b[0m \u001b[0mephemeral\u001b[0m\u001b[0;34m:\u001b[0m\u001b[0;34m\u001b[0m\u001b[0;34m\u001b[0m\u001b[0m\n\u001b[0;32m--> 133\u001b[0;31m     _message.blocking_request(\n\u001b[0m\u001b[1;32m    134\u001b[0m         \u001b[0;34m'request_auth'\u001b[0m\u001b[0;34m,\u001b[0m \u001b[0mrequest\u001b[0m\u001b[0;34m=\u001b[0m\u001b[0;34m{\u001b[0m\u001b[0;34m'authType'\u001b[0m\u001b[0;34m:\u001b[0m \u001b[0;34m'dfs_ephemeral'\u001b[0m\u001b[0;34m}\u001b[0m\u001b[0;34m,\u001b[0m \u001b[0mtimeout_sec\u001b[0m\u001b[0;34m=\u001b[0m\u001b[0;32mNone\u001b[0m\u001b[0;34m\u001b[0m\u001b[0;34m\u001b[0m\u001b[0m\n\u001b[1;32m    135\u001b[0m     )\n",
            "\u001b[0;32m/usr/local/lib/python3.10/dist-packages/google/colab/_message.py\u001b[0m in \u001b[0;36mblocking_request\u001b[0;34m(request_type, request, timeout_sec, parent)\u001b[0m\n\u001b[1;32m    174\u001b[0m       \u001b[0mrequest_type\u001b[0m\u001b[0;34m,\u001b[0m \u001b[0mrequest\u001b[0m\u001b[0;34m,\u001b[0m \u001b[0mparent\u001b[0m\u001b[0;34m=\u001b[0m\u001b[0mparent\u001b[0m\u001b[0;34m,\u001b[0m \u001b[0mexpect_reply\u001b[0m\u001b[0;34m=\u001b[0m\u001b[0;32mTrue\u001b[0m\u001b[0;34m\u001b[0m\u001b[0;34m\u001b[0m\u001b[0m\n\u001b[1;32m    175\u001b[0m   )\n\u001b[0;32m--> 176\u001b[0;31m   \u001b[0;32mreturn\u001b[0m \u001b[0mread_reply_from_input\u001b[0m\u001b[0;34m(\u001b[0m\u001b[0mrequest_id\u001b[0m\u001b[0;34m,\u001b[0m \u001b[0mtimeout_sec\u001b[0m\u001b[0;34m)\u001b[0m\u001b[0;34m\u001b[0m\u001b[0;34m\u001b[0m\u001b[0m\n\u001b[0m",
            "\u001b[0;32m/usr/local/lib/python3.10/dist-packages/google/colab/_message.py\u001b[0m in \u001b[0;36mread_reply_from_input\u001b[0;34m(message_id, timeout_sec)\u001b[0m\n\u001b[1;32m    101\u001b[0m     ):\n\u001b[1;32m    102\u001b[0m       \u001b[0;32mif\u001b[0m \u001b[0;34m'error'\u001b[0m \u001b[0;32min\u001b[0m \u001b[0mreply\u001b[0m\u001b[0;34m:\u001b[0m\u001b[0;34m\u001b[0m\u001b[0;34m\u001b[0m\u001b[0m\n\u001b[0;32m--> 103\u001b[0;31m         \u001b[0;32mraise\u001b[0m \u001b[0mMessageError\u001b[0m\u001b[0;34m(\u001b[0m\u001b[0mreply\u001b[0m\u001b[0;34m[\u001b[0m\u001b[0;34m'error'\u001b[0m\u001b[0;34m]\u001b[0m\u001b[0;34m)\u001b[0m\u001b[0;34m\u001b[0m\u001b[0;34m\u001b[0m\u001b[0m\n\u001b[0m\u001b[1;32m    104\u001b[0m       \u001b[0;32mreturn\u001b[0m \u001b[0mreply\u001b[0m\u001b[0;34m.\u001b[0m\u001b[0mget\u001b[0m\u001b[0;34m(\u001b[0m\u001b[0;34m'data'\u001b[0m\u001b[0;34m,\u001b[0m \u001b[0;32mNone\u001b[0m\u001b[0;34m)\u001b[0m\u001b[0;34m\u001b[0m\u001b[0;34m\u001b[0m\u001b[0m\n\u001b[1;32m    105\u001b[0m \u001b[0;34m\u001b[0m\u001b[0m\n",
            "\u001b[0;31mMessageError\u001b[0m: Error: credential propagation was unsuccessful"
          ]
        }
      ],
      "source": [
        "from google.colab import drive\n",
        "drive.mount('/content/drive')"
      ]
    },
    {
      "cell_type": "code",
      "execution_count": null,
      "metadata": {
        "id": "NSqDKu8t38_I"
      },
      "outputs": [],
      "source": [
        "df= pd.read_csv(\"/content/drive/MyDrive/Doceree-HCP_Train.csv\",encoding='latin-1')"
      ]
    },
    {
      "cell_type": "code",
      "execution_count": null,
      "metadata": {
        "id": "r9DJnHj59Mz4"
      },
      "outputs": [],
      "source": [
        "df.columns"
      ]
    },
    {
      "cell_type": "code",
      "execution_count": null,
      "metadata": {
        "id": "DCSWoRX-Z8L7"
      },
      "outputs": [],
      "source": [
        "df['KEYWORDS'] =df['KEYWORDS'].str.lower()"
      ]
    },
    {
      "cell_type": "code",
      "execution_count": null,
      "metadata": {
        "id": "SlukgaKRWAn7"
      },
      "outputs": [],
      "source": [
        "# data = df[['DEVICETYPE','USERCITY','USERZIPCODE','USERAGENT','PLATFORMTYPE','URL','IS_HCP']].fillna(0)\n",
        "# columns = data.columns"
      ]
    },
    {
      "cell_type": "code",
      "execution_count": null,
      "metadata": {
        "id": "tgWLSqXlX0r4"
      },
      "outputs": [],
      "source": [
        "data = df.copy()"
      ]
    },
    {
      "cell_type": "code",
      "execution_count": null,
      "metadata": {
        "id": "9lB2bfZbYW4n"
      },
      "outputs": [],
      "source": [
        "data"
      ]
    },
    {
      "cell_type": "code",
      "execution_count": null,
      "metadata": {
        "id": "xc_Xtp_UX4WZ"
      },
      "outputs": [],
      "source": [
        "data.drop([\"TAXONOMY\",\"KEYWORDS\",\"CHANNELTYPE\",\"PLATFORMTYPE\",\"USERPLATFORMUID\",\"BIDREQUESTIP\",\"ID\",\"PLATFORM_ID\",\"DEVICETYPE\"], axis=1, inplace=True)\n",
        "data = data.fillna(0)"
      ]
    },
    {
      "cell_type": "code",
      "execution_count": null,
      "metadata": {
        "id": "fXy_qHZm_l3s"
      },
      "outputs": [],
      "source": [
        "columns = data.columns"
      ]
    },
    {
      "cell_type": "code",
      "execution_count": null,
      "metadata": {
        "id": "14aBWPfdLiKx"
      },
      "outputs": [],
      "source": [
        "test = data.sample(20000,random_state=42)\n",
        "train = data[~data.index.isin(test.index)]"
      ]
    },
    {
      "cell_type": "markdown",
      "metadata": {
        "id": "5RLftTZR_Yye"
      },
      "source": [
        "#**Target Encoding**"
      ]
    },
    {
      "cell_type": "code",
      "execution_count": null,
      "metadata": {
        "id": "O9v2nslr_sfZ"
      },
      "outputs": [],
      "source": [
        "!pip install category_encoders"
      ]
    },
    {
      "cell_type": "code",
      "execution_count": null,
      "metadata": {
        "id": "cPDnxTe9ATr-"
      },
      "outputs": [],
      "source": [
        "train_x = train.iloc[:,:-1]\n",
        "train_y = train.iloc[:,-1]\n",
        "test_x = test.iloc[:,:-1]\n",
        "test_y = test.iloc[:,-1]"
      ]
    },
    {
      "cell_type": "code",
      "execution_count": null,
      "metadata": {
        "id": "qLeFjVM7_YI2"
      },
      "outputs": [],
      "source": [
        "import category_encoders as ce\n",
        "\n",
        "\n",
        "#Create target encoding object\n",
        "encoder=ce.TargetEncoder(cols=train_x.columns, smoothing=0.2)\n"
      ]
    },
    {
      "cell_type": "code",
      "execution_count": null,
      "metadata": {
        "id": "alzGppIjJXL7"
      },
      "outputs": [],
      "source": [
        "encoder"
      ]
    },
    {
      "cell_type": "code",
      "execution_count": null,
      "metadata": {
        "id": "LDdQ5OnWADi_"
      },
      "outputs": [],
      "source": [
        "train_x_encoded = encoder.fit_transform(train_x, train_y)\n",
        "test_x_encoded =encoder.transform(test_x, test_y)"
      ]
    },
    {
      "cell_type": "code",
      "execution_count": null,
      "metadata": {
        "id": "rNVQx_9IC4zk"
      },
      "outputs": [],
      "source": [
        "from sklearn.tree import DecisionTreeClassifier\n",
        "dt = DecisionTreeClassifier()"
      ]
    },
    {
      "cell_type": "code",
      "execution_count": null,
      "metadata": {
        "id": "4CA6Gj3LC7i9"
      },
      "outputs": [],
      "source": [
        "dt.fit(train_x_encoded, train_y)\n",
        "y_pred = dt.predict(test_x_encoded)\n",
        "y_pred_train = dt.predict(train_x_encoded)"
      ]
    },
    {
      "cell_type": "code",
      "execution_count": null,
      "metadata": {
        "id": "b6F0NQpEDcO8"
      },
      "outputs": [],
      "source": [
        "from sklearn.metrics import f1_score, accuracy_score\n",
        "print(f1_score(y_pred,test_y))\n",
        "print(accuracy_score(y_pred,test_y))"
      ]
    },
    {
      "cell_type": "code",
      "execution_count": null,
      "metadata": {
        "id": "TrPalj-XENJ-"
      },
      "outputs": [],
      "source": [
        "importance = dt.feature_importances_\n",
        "feature_names = train_x.columns"
      ]
    },
    {
      "cell_type": "code",
      "execution_count": null,
      "metadata": {
        "id": "jtKDSxb7P5R9"
      },
      "outputs": [],
      "source": [
        "importance\n"
      ]
    },
    {
      "cell_type": "code",
      "execution_count": null,
      "metadata": {
        "id": "Tu6etxLWJ0hL"
      },
      "outputs": [],
      "source": [
        "import matplotlib.pyplot as plt\n",
        "plt.barh(range(len(importance)), importance, align = 'center')\n",
        "plt.xlabel(\"Feature Importance\")\n",
        "plt.ylabel(\"Feature\")\n",
        "plt.yticks(range(len(importance)), feature_names)\n",
        "for index, value in enumerate(importance):\n",
        "    plt.text(value, index, f'{value:.4f}')\n",
        "plt.show()"
      ]
    },
    {
      "cell_type": "markdown",
      "metadata": {
        "id": "oPZJwEKxIiaN"
      },
      "source": [
        "**Count Vectorizer**"
      ]
    },
    {
      "cell_type": "code",
      "execution_count": null,
      "metadata": {
        "id": "JuvADHOEK3jt"
      },
      "outputs": [],
      "source": [
        "train_x = train_x.join(df.KEYWORDS, how= 'left').copy()\n",
        "test_x = test_x.join(df.KEYWORDS, how= 'left').copy()"
      ]
    },
    {
      "cell_type": "code",
      "execution_count": null,
      "metadata": {
        "id": "ypW-xBHPErdm"
      },
      "outputs": [],
      "source": [
        "from sklearn.feature_extraction.text import CountVectorizer\n",
        "vectorizer = CountVectorizer(max_features=514)\n"
      ]
    },
    {
      "cell_type": "code",
      "execution_count": null,
      "metadata": {
        "id": "Kjrpj2_b6CDm"
      },
      "outputs": [],
      "source": [
        "vectorizer"
      ]
    },
    {
      "cell_type": "code",
      "execution_count": null,
      "metadata": {
        "id": "jkpH8duWJRct"
      },
      "outputs": [],
      "source": [
        "train_x_sparse_matrix = vectorizer.fit_transform(train_x.KEYWORDS)\n",
        "test_x_sparse_matrix = vectorizer.transform(test_x.KEYWORDS)"
      ]
    },
    {
      "cell_type": "code",
      "execution_count": null,
      "metadata": {
        "id": "5AjjXJ_aRKhc"
      },
      "outputs": [],
      "source": [
        "feature_names = vectorizer.get_feature_names_out()\n"
      ]
    },
    {
      "cell_type": "code",
      "execution_count": null,
      "metadata": {
        "id": "Tb7H4N9jP4fK"
      },
      "outputs": [],
      "source": [
        "test_x_sparse_matrix"
      ]
    },
    {
      "cell_type": "code",
      "execution_count": null,
      "metadata": {
        "id": "XYYD0ERtNbyr"
      },
      "outputs": [],
      "source": [
        "df_train = pd.DataFrame(train_x_sparse_matrix.toarray(), columns=feature_names,index = train_x.index)\n",
        "df_test = pd.DataFrame(test_x_sparse_matrix.toarray(), columns=feature_names,index = test_x.index)\n",
        "\n"
      ]
    },
    {
      "cell_type": "code",
      "execution_count": null,
      "metadata": {
        "id": "qnzNJkyjODfL"
      },
      "outputs": [],
      "source": [
        "final_train = train_x_encoded.join(df_train, how='left')\n",
        "final_test = test_x_encoded.join(df_test, how= 'left')"
      ]
    },
    {
      "cell_type": "markdown",
      "metadata": {
        "id": "eFwmY80N_LOC"
      },
      "source": [
        "**Decision Tree**"
      ]
    },
    {
      "cell_type": "code",
      "execution_count": null,
      "metadata": {
        "id": "Qmr_z8KqOuts"
      },
      "outputs": [],
      "source": [
        "from sklearn.tree import DecisionTreeClassifier\n",
        "dt = DecisionTreeClassifier()\n",
        "dt.fit(final_train, train_y)"
      ]
    },
    {
      "cell_type": "code",
      "execution_count": null,
      "metadata": {
        "id": "4c_BrsbCmULW"
      },
      "outputs": [],
      "source": [
        "y_pred = dt.predict(final_test)\n",
        "y_pred_train = dt.predict(final_train)"
      ]
    },
    {
      "cell_type": "code",
      "execution_count": null,
      "metadata": {
        "id": "6Twa3KbmmbRH"
      },
      "outputs": [],
      "source": [
        "from sklearn.metrics import f1_score, accuracy_score, precision_score, recall_score, confusion_matrix\n",
        "print(\"Train F1 score is\",f1_score(train_y, y_pred_train, average='macro'))\n",
        "print(\"Test F1 score is\",f1_score(test_y, y_pred, average = 'macro'))\n",
        "print(\"Train Accuracy is\",accuracy_score(train_y, y_pred_train))\n",
        "print(\"Test Accuracy is\",accuracy_score(test_y, y_pred))\n",
        "print(\"Train Precision is\",precision_score(train_y, y_pred_train))\n",
        "print(\"Test Precision is\",precision_score(test_y, y_pred))\n",
        "print(\"Train Recall is\",recall_score(train_y, y_pred_train))\n",
        "print(\"Test Recall is\",recall_score(test_y, y_pred))"
      ]
    },
    {
      "cell_type": "code",
      "source": [
        "from tabulate import tabulate\n",
        "table_data = [\n",
        "    [\"Metric\", \"Train\", \"Test\"],\n",
        "    [\"F1 Score\", f1_score(train_y, y_pred_train, average='macro'), f1_score(test_y, y_pred, average = 'macro')],\n",
        "    [\"Accuracy\", accuracy_score(train_y, y_pred_train), accuracy_score(test_y, y_pred)],\n",
        "    [\"Precision\", precision_score(train_y, y_pred_train), precision_score(test_y, y_pred)],\n",
        "    [\"Recall\", recall_score(train_y, y_pred_train), recall_score(test_y, y_pred)],\n",
        "]\n",
        "\n",
        "# Print the table\n",
        "print(tabulate(table_data, headers=\"firstrow\", tablefmt=\"grid\"))"
      ],
      "metadata": {
        "id": "-xod-iMONg63"
      },
      "execution_count": null,
      "outputs": []
    },
    {
      "cell_type": "markdown",
      "metadata": {
        "id": "jkWGPrvsie3K"
      },
      "source": [
        "###**Random Forest**"
      ]
    },
    {
      "cell_type": "code",
      "execution_count": null,
      "metadata": {
        "id": "IWMsJJNqzt_E"
      },
      "outputs": [],
      "source": [
        "from sklearn.ensemble import RandomForestClassifier\n",
        "\n",
        "rf = RandomForestClassifier(n_estimators=100,max_features=3, random_state=42)\n",
        "\n"
      ]
    },
    {
      "cell_type": "code",
      "execution_count": null,
      "metadata": {
        "id": "9XNXJNe-ikZq"
      },
      "outputs": [],
      "source": [
        "rf.fit(final_train,train_y)"
      ]
    },
    {
      "cell_type": "code",
      "execution_count": null,
      "metadata": {
        "id": "ploiv5COiuR7"
      },
      "outputs": [],
      "source": [
        "y_pred_rf = rf.predict(final_test)\n",
        "y_pred_train_rf = rf.predict(final_train)"
      ]
    },
    {
      "cell_type": "code",
      "execution_count": null,
      "metadata": {
        "id": "MplPJTlti76u"
      },
      "outputs": [],
      "source": [
        "from sklearn.metrics import f1_score, accuracy_score, precision_score, recall_score, confusion_matrix\n",
        "print(\"Train F1 score is\",f1_score(train_y, y_pred_train_rf, average='macro'))\n",
        "print(\"Test F1 score is\",f1_score(test_y, y_pred_rf, average = 'macro'))\n",
        "print(\"Train F1 score is\",f1_score(train_y, y_pred_train_rf))\n",
        "print(\"Test F1 score is\",f1_score(test_y, y_pred_rf))\n",
        "print(\"Train Accuracy is\",accuracy_score(train_y, y_pred_train_rf))\n",
        "print(\"Test Accuracy is\",accuracy_score(test_y, y_pred_rf))\n",
        "print(\"Train Precision is\",precision_score(train_y, y_pred_train_rf))\n",
        "print(\"Test Precision is\",precision_score(test_y, y_pred_rf))\n",
        "print(\"Train Recall is\",recall_score(train_y, y_pred_train_rf))\n",
        "print(\"Test Recall is\",recall_score(test_y, y_pred_rf))\n"
      ]
    },
    {
      "cell_type": "code",
      "source": [
        "from tabulate import tabulate\n",
        "table_data = [\n",
        "    [\"Metric\", \"Train\", \"Test\"],\n",
        "    [\"F1 Score\", f1_score(train_y, y_pred_train_rf, average='macro'), f1_score(test_y, y_pred_rf, average = 'macro')],\n",
        "    [\"Accuracy\", accuracy_score(train_y, y_pred_train_rf), accuracy_score(test_y, y_pred_rf)],\n",
        "    [\"Precision\", precision_score(train_y, y_pred_train_rf), precision_score(test_y, y_pred_rf)],\n",
        "    [\"Recall\",recall_score(train_y, y_pred_train_rf), recall_score(test_y, y_pred_rf)],\n",
        "]\n",
        "\n",
        "# Print the table\n",
        "print(tabulate(table_data, headers=\"firstrow\", tablefmt=\"grid\"))"
      ],
      "metadata": {
        "id": "295D3lp8S27j"
      },
      "execution_count": null,
      "outputs": []
    },
    {
      "cell_type": "markdown",
      "metadata": {
        "id": "8R1XJ1EepH4J"
      },
      "source": [
        "#**Gradient Boosing**"
      ]
    },
    {
      "cell_type": "code",
      "execution_count": null,
      "metadata": {
        "id": "wmafLuVxYjIA"
      },
      "outputs": [],
      "source": [
        "from sklearn.ensemble import GradientBoostingClassifier\n",
        "gb = GradientBoostingClassifier(n_estimators=100, learning_rate=1.0, max_depth=1, random_state=0)\n",
        "gb.fit(final_train,train_y)\n",
        "y_pred_gb = gb.predict(final_test)\n",
        "y_pred_train_gb = gb.predict(final_train)"
      ]
    },
    {
      "cell_type": "code",
      "execution_count": null,
      "metadata": {
        "id": "wzWD9v6Tpte2"
      },
      "outputs": [],
      "source": [
        "from sklearn.metrics import f1_score, accuracy_score, precision_score, recall_score, confusion_matrix\n",
        "print(\"Train F1 score is\",f1_score(train_y, y_pred_train_gb, average='macro'))\n",
        "print(\"Test F1 score is\",f1_score(test_y, y_pred_gb, average = 'macro'))\n",
        "print(\"Train F1 score is\",f1_score(train_y, y_pred_train_gb))\n",
        "print(\"Test F1 score is\",f1_score(test_y, y_pred_gb))\n",
        "print(\"Train Accuracy is\",accuracy_score(train_y, y_pred_train_gb))\n",
        "print(\"Test Accuracy is\",accuracy_score(test_y, y_pred_gb))\n",
        "print(\"Train Precision is\",precision_score(train_y, y_pred_train_gb))\n",
        "print(\"Test Precision is\",precision_score(test_y, y_pred_gb))\n",
        "print(\"Train Recall is\",recall_score(train_y, y_pred_train_gb))\n",
        "print(\"Test Recall is\",recall_score(test_y, y_pred_gb))\n"
      ]
    },
    {
      "cell_type": "markdown",
      "metadata": {
        "id": "1mO7wa6TqLaY"
      },
      "source": [
        "#**XGBoost**"
      ]
    },
    {
      "cell_type": "code",
      "execution_count": null,
      "metadata": {
        "id": "fktsFgfpp9Yz"
      },
      "outputs": [],
      "source": [
        "import xgboost as xgb"
      ]
    },
    {
      "cell_type": "code",
      "execution_count": null,
      "metadata": {
        "id": "UCdkNFtWZY8n"
      },
      "outputs": [],
      "source": [
        "dtrain = xgb.DMatrix(final_train, label=train_y)\n",
        "dtest = xgb.DMatrix(final_test, label=test_y)"
      ]
    },
    {
      "cell_type": "code",
      "execution_count": null,
      "metadata": {
        "id": "mUFHaAI64zrU"
      },
      "outputs": [],
      "source": [
        "params = {\n",
        "    'objective': 'multi:softmax',      # Classification task with multiple classes\n",
        "    'eval_metric': 'merror',            # Evaluation metric for multi-class classification\n",
        "    'num_class': len(set(train_y)),     # Number of classes in the target variable\n",
        "    'max_depth': 3,                     # Maximum depth of the tree\n",
        "    'learning_rate': 0.1,               # Learning rate\n",
        "    'subsample': 0.8,                   # Fraction of training data to use in each boosting round\n",
        "    'colsample_bytree': 0.8,            # Fraction of features to use in each boosting round\n",
        "    'n_estimators': 100                 # Number of boosting rounds\n",
        "}"
      ]
    },
    {
      "cell_type": "code",
      "execution_count": null,
      "metadata": {
        "id": "0QSjYq9q40QR"
      },
      "outputs": [],
      "source": [
        "model = xgb.train(params, dtrain, num_boost_round=100)\n",
        "y_pred = model.predict(dtest)"
      ]
    },
    {
      "cell_type": "code",
      "execution_count": null,
      "metadata": {
        "id": "dFEDSPqb5wJH"
      },
      "outputs": [],
      "source": [
        "y_pred_xgb = model.predict(final_test)\n",
        "y_pred_train_xgb = model.predict(final_train)"
      ]
    },
    {
      "cell_type": "code",
      "execution_count": null,
      "metadata": {
        "id": "JxSAbNmO58LX"
      },
      "outputs": [],
      "source": [
        "from sklearn.metrics import f1_score, accuracy_score, precision_score, recall_score, confusion_matrix\n",
        "print(\"Train F1 score is\",f1_score(train_y, y_pred_train_xgb, average='macro'))\n",
        "print(\"Test F1 score is\",f1_score(test_y, y_pred_xgb, average = 'macro'))\n",
        "print(\"Train F1 score is\",f1_score(train_y, y_pred_train_xgb))\n",
        "print(\"Test F1 score is\",f1_score(test_y, y_pred_xgb))\n",
        "print(\"Train Accuracy is\",accuracy_score(train_y, y_pred_train_xgb))\n",
        "print(\"Test Accuracy is\",accuracy_score(test_y, y_pred_xgb))\n",
        "print(\"Train Precision is\",precision_score(train_y, y_pred_train_xgb))\n",
        "print(\"Test Precision is\",precision_score(test_y, y_pred_xgb))\n",
        "print(\"Train Recall is\",recall_score(train_y, y_pred_train_xgb))\n",
        "print(\"Test Recall is\",recall_score(test_y, y_pred_xgb))\n"
      ]
    },
    {
      "cell_type": "code",
      "execution_count": null,
      "metadata": {
        "id": "-x7xFCTrfKvy"
      },
      "outputs": [],
      "source": []
    }
  ],
  "metadata": {
    "colab": {
      "collapsed_sections": [
        "O8M9Ttik5DUE",
        "jszVXSsitgXe",
        "1i9PAUzyRvyP",
        "5LvHjbZ39Z_O",
        "8R1XJ1EepH4J",
        "1mO7wa6TqLaY"
      ],
      "provenance": [],
      "include_colab_link": true
    },
    "kernelspec": {
      "display_name": "Python 3",
      "name": "python3"
    },
    "language_info": {
      "name": "python"
    }
  },
  "nbformat": 4,
  "nbformat_minor": 0
}